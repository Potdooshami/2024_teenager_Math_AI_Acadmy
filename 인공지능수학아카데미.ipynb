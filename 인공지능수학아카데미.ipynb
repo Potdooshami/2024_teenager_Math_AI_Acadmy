{
  "nbformat": 4,
  "nbformat_minor": 0,
  "metadata": {
    "colab": {
      "provenance": [],
      "authorship_tag": "ABX9TyO+7sTpF9m3z/slRs9JpvnB",
      "include_colab_link": true
    },
    "kernelspec": {
      "name": "python3",
      "display_name": "Python 3"
    },
    "language_info": {
      "name": "python"
    }
  },
  "cells": [
    {
      "cell_type": "markdown",
      "metadata": {
        "id": "view-in-github",
        "colab_type": "text"
      },
      "source": [
        "<a href=\"https://colab.research.google.com/github/Potdooshami/2024_teenager_Math_AI_Acadmy/blob/main/%EC%9D%B8%EA%B3%B5%EC%A7%80%EB%8A%A5%EC%88%98%ED%95%99%EC%95%84%EC%B9%B4%EB%8D%B0%EB%AF%B8.ipynb\" target=\"_parent\"><img src=\"https://colab.research.google.com/assets/colab-badge.svg\" alt=\"Open In Colab\"/></a>"
      ]
    },
    {
      "cell_type": "markdown",
      "source": [
        "**1** Hello World"
      ],
      "metadata": {
        "id": "XFXhm9Jq01nk"
      }
    },
    {
      "cell_type": "code",
      "execution_count": null,
      "metadata": {
        "colab": {
          "base_uri": "https://localhost:8080/"
        },
        "id": "TYR09x6-HNB6",
        "outputId": "489b0e6a-7848-4ead-ea9e-1ca4e6c53a66"
      },
      "outputs": [
        {
          "output_type": "stream",
          "name": "stdout",
          "text": [
            "hello world!\n"
          ]
        }
      ],
      "source": [
        "print('hello world!') #알파벳과 몇개의 특수문자를 포함하여 컴퓨터에게 명령을 시킬 수 있다.(모든 프로그래밍 언어의 공통점)"
      ]
    },
    {
      "cell_type": "code",
      "source": [
        "print('hello world' #오류1: 모든 글자의 나열이 컴퓨터에게 명령을 내릴 수는 없다. syntax(문법)에 맞게"
      ],
      "metadata": {
        "colab": {
          "base_uri": "https://localhost:8080/",
          "height": 112
        },
        "id": "zU4EhW4kIFvg",
        "outputId": "0f24e3df-3da6-4d1b-fbcf-3d7c137ef7bf"
      },
      "execution_count": null,
      "outputs": [
        {
          "output_type": "error",
          "ename": "SyntaxError",
          "evalue": "incomplete input (<ipython-input-11-752da5f88a6b>, line 1)",
          "traceback": [
            "\u001b[0;36m  File \u001b[0;32m\"<ipython-input-11-752da5f88a6b>\"\u001b[0;36m, line \u001b[0;32m1\u001b[0m\n\u001b[0;31m    print('hello world' #오류1: 모든 글자의 나열이 컴퓨터에게 명령을 내릴 수는 없다. syntax(문법)에 맞게\u001b[0m\n\u001b[0m                                                                           ^\u001b[0m\n\u001b[0;31mSyntaxError\u001b[0m\u001b[0;31m:\u001b[0m incomplete input\n"
          ]
        }
      ]
    },
    {
      "cell_type": "code",
      "source": [
        "rint('hello world') #오류2: 출력이 다른 걸 확인 가능하다. 오류의 원인은 여러가지이다."
      ],
      "metadata": {
        "id": "dpjGZmlFIIj1",
        "colab": {
          "base_uri": "https://localhost:8080/",
          "height": 228
        },
        "outputId": "3770e147-0618-4fd0-9e15-0bbe50d34ac2"
      },
      "execution_count": null,
      "outputs": [
        {
          "output_type": "error",
          "ename": "NameError",
          "evalue": "name 'rint' is not defined",
          "traceback": [
            "\u001b[0;31m---------------------------------------------------------------------------\u001b[0m",
            "\u001b[0;31mNameError\u001b[0m                                 Traceback (most recent call last)",
            "\u001b[0;32m<ipython-input-1-917a046b2e40>\u001b[0m in \u001b[0;36m<cell line: 1>\u001b[0;34m()\u001b[0m\n\u001b[0;32m----> 1\u001b[0;31m \u001b[0mrint\u001b[0m\u001b[0;34m(\u001b[0m\u001b[0;34m'hello world'\u001b[0m\u001b[0;34m)\u001b[0m \u001b[0;31m#오류2: 출력이 다른 걸 확인 가능하다. 오류의 원인은 여러가지이다.\u001b[0m\u001b[0;34m\u001b[0m\u001b[0;34m\u001b[0m\u001b[0m\n\u001b[0m",
            "\u001b[0;31mNameError\u001b[0m: name 'rint' is not defined"
          ]
        }
      ]
    },
    {
      "cell_type": "code",
      "source": [
        "print('hello word') # 문법적으로 맞다고 모두 의미있는 결과인 것은 아니다.컴퓨터는 의미를 생각하지 않는다. 그저 시킨 일을 묵묵히 수행할 뿐이다."
      ],
      "metadata": {
        "id": "vaPqlKg8IP4S"
      },
      "execution_count": null,
      "outputs": []
    },
    {
      "cell_type": "code",
      "source": [],
      "metadata": {
        "id": "u8vTYC_OL4yO"
      },
      "execution_count": null,
      "outputs": []
    },
    {
      "cell_type": "markdown",
      "source": [
        "2. 변수"
      ],
      "metadata": {
        "id": "U9wPxc9-1BtK"
      }
    },
    {
      "cell_type": "code",
      "source": [
        "x = 1.1 #x라는 변수에 1이라는 값을 넣는다.\n",
        "y = 3 #y라는 변수에 3이라는 값을 넣는다.\n",
        "#아무 일도 안 일어 난다...."
      ],
      "metadata": {
        "id": "T9ADhrUj1RmI"
      },
      "execution_count": null,
      "outputs": []
    },
    {
      "cell_type": "code",
      "source": [
        "print(x)\n",
        "print(y)\n",
        "\n",
        "# 컴퓨터 메모리 상에 제대로 저장이 되었는지 확인하기 위해서는 print()라는 함수를 사용하면 된다."
      ],
      "metadata": {
        "id": "a6HDMvR41YlR"
      },
      "execution_count": null,
      "outputs": []
    },
    {
      "cell_type": "code",
      "source": [
        "print(type(x));print(type(y))"
      ],
      "metadata": {
        "colab": {
          "base_uri": "https://localhost:8080/"
        },
        "id": "9x_3CBRADLZ1",
        "outputId": "4fe43490-f8a6-446a-cbba-e47d8c2dff87"
      },
      "execution_count": null,
      "outputs": [
        {
          "output_type": "stream",
          "name": "stdout",
          "text": [
            "<class 'float'>\n",
            "<class 'int'>\n"
          ]
        }
      ]
    },
    {
      "cell_type": "code",
      "source": [
        "print(x+y,x-y,x*y,x/y)# 3번째 같은 상황... int를 따로 쓰는 이유"
      ],
      "metadata": {
        "colab": {
          "base_uri": "https://localhost:8080/"
        },
        "id": "VBtV6aGLOu5d",
        "outputId": "adc7e564-d743-4a77-dc73-2411216c7e84"
      },
      "execution_count": null,
      "outputs": [
        {
          "output_type": "stream",
          "name": "stdout",
          "text": [
            "4.1 -1.9 3.3000000000000003 0.3666666666666667\n"
          ]
        }
      ]
    },
    {
      "cell_type": "code",
      "source": [
        "s1 = 'academy'\n",
        "s2 = 'hello world!'\n",
        "print(s1,s2,type(s1),type(s1))"
      ],
      "metadata": {
        "colab": {
          "base_uri": "https://localhost:8080/"
        },
        "id": "0OdJVL2OCbSH",
        "outputId": "6c241bc5-72f8-47a8-cbfa-5d8d39e35ced"
      },
      "execution_count": null,
      "outputs": [
        {
          "output_type": "stream",
          "name": "stdout",
          "text": [
            "academy hello world! <class 'str'> <class 'str'>\n"
          ]
        }
      ]
    },
    {
      "cell_type": "markdown",
      "source": [
        "3. 함수"
      ],
      "metadata": {
        "id": "AvWsTQ2h1uXO"
      }
    },
    {
      "cell_type": "code",
      "source": [
        "#내장함수\n",
        "#위에서 쓴 print(), type()도 함수임\n",
        "#사칙연산도 사실 함수로 볼 수 있다. input: 2개의 인풋에 하나의 아웃풋을 가지는 함수이다.\n",
        "print(abs(x-y))# 다른 예시 abs와 float\n",
        "one = 1\n",
        "one_flt =  float(one)\n",
        "print(one)\n",
        "print(one_flt)\n",
        "print(type(one),type(one_flt))"
      ],
      "metadata": {
        "colab": {
          "base_uri": "https://localhost:8080/"
        },
        "id": "hQkAazx01vH8",
        "outputId": "97f23fcc-80a3-41a2-8d11-2f0b2558401f"
      },
      "execution_count": null,
      "outputs": [
        {
          "output_type": "stream",
          "name": "stdout",
          "text": [
            "1.9\n",
            "1\n",
            "1.0\n",
            "<class 'int'> <class 'float'>\n"
          ]
        }
      ]
    },
    {
      "cell_type": "code",
      "source": [
        "\n",
        "def diff(x,y):\n",
        "  return abs(x-y)\n",
        "def pt(a):\n",
        "  print(type(a))\n",
        "\n",
        "\n",
        "print(my_add(x,y))\n",
        "print(my_add(one,one_flt))\n",
        "pt(one)\n",
        "pt(one_flt)\n",
        "\n",
        "# 지금 배워 둔 기본 함수, 변수가 너무 적어\n",
        "#변수와 마찬가지로 함수는 재사용 가능하다.반복적으로 사용하는 구문을 함수로 만들어서 재사용하는 것은 좋은 프로그래밍의 핵심 전략"
      ],
      "metadata": {
        "colab": {
          "base_uri": "https://localhost:8080/",
          "height": 224
        },
        "id": "hoWCOLOMG3if",
        "outputId": "ce46adb2-2c31-4916-c2c0-177406cb1b68"
      },
      "execution_count": null,
      "outputs": [
        {
          "output_type": "error",
          "ename": "NameError",
          "evalue": "name 'my_add' is not defined",
          "traceback": [
            "\u001b[0;31m---------------------------------------------------------------------------\u001b[0m",
            "\u001b[0;31mNameError\u001b[0m                                 Traceback (most recent call last)",
            "\u001b[0;32m<ipython-input-16-ce4088079f18>\u001b[0m in \u001b[0;36m<cell line: 7>\u001b[0;34m()\u001b[0m\n\u001b[1;32m      5\u001b[0m \u001b[0;34m\u001b[0m\u001b[0m\n\u001b[1;32m      6\u001b[0m \u001b[0;34m\u001b[0m\u001b[0m\n\u001b[0;32m----> 7\u001b[0;31m \u001b[0mprint\u001b[0m\u001b[0;34m(\u001b[0m\u001b[0mmy_add\u001b[0m\u001b[0;34m(\u001b[0m\u001b[0mx\u001b[0m\u001b[0;34m,\u001b[0m\u001b[0my\u001b[0m\u001b[0;34m)\u001b[0m\u001b[0;34m)\u001b[0m\u001b[0;34m\u001b[0m\u001b[0;34m\u001b[0m\u001b[0m\n\u001b[0m\u001b[1;32m      8\u001b[0m \u001b[0mprint\u001b[0m\u001b[0;34m(\u001b[0m\u001b[0mmy_add\u001b[0m\u001b[0;34m(\u001b[0m\u001b[0mone\u001b[0m\u001b[0;34m,\u001b[0m\u001b[0mone_flt\u001b[0m\u001b[0;34m)\u001b[0m\u001b[0;34m)\u001b[0m\u001b[0;34m\u001b[0m\u001b[0;34m\u001b[0m\u001b[0m\n\u001b[1;32m      9\u001b[0m \u001b[0mpt\u001b[0m\u001b[0;34m(\u001b[0m\u001b[0mone\u001b[0m\u001b[0;34m)\u001b[0m\u001b[0;34m\u001b[0m\u001b[0;34m\u001b[0m\u001b[0m\n",
            "\u001b[0;31mNameError\u001b[0m: name 'my_add' is not defined"
          ]
        }
      ]
    },
    {
      "cell_type": "code",
      "source": [
        "#외장함수\n",
        "import numpy as np #array라는 자료형 제공해서 python 보완\n",
        "import pandas as pd #dataframe\n",
        "import matplotlib.pyplot as plt #시각화\n"
      ],
      "metadata": {
        "id": "t1V4FhyOPJWT"
      },
      "execution_count": null,
      "outputs": []
    },
    {
      "cell_type": "code",
      "source": [
        "\n",
        "\n",
        "#그래프 시각화\n",
        "xs = [0,1,2,3,4,5,6,7,8,9,10]\n",
        "ys = [0,1,4,9,16,25,36,49,64,81,100]\n",
        "plt.plot(xs,ys)"
      ],
      "metadata": {
        "colab": {
          "base_uri": "https://localhost:8080/",
          "height": 449
        },
        "id": "1qI5AUAP1_LP",
        "outputId": "ba2095bb-c9d1-4eba-86af-a5d69ea6e103"
      },
      "execution_count": null,
      "outputs": [
        {
          "output_type": "execute_result",
          "data": {
            "text/plain": [
              "[<matplotlib.lines.Line2D at 0x79d41ea71bd0>]"
            ]
          },
          "metadata": {},
          "execution_count": 18
        },
        {
          "output_type": "display_data",
          "data": {
            "text/plain": [
              "<Figure size 640x480 with 1 Axes>"
            ],
            "image/png": "[encoded data removed]"
          },
          "metadata": {}
        }
      ]
    },
    {
      "cell_type": "code",
      "source": [
        "plt.plot(xs,ys,'ro-')\n",
        "plt.title('y=x^2')\n",
        "plt.xlabel('x')\n",
        "plt.ylabel('y')\n",
        "# 여러가지 명령어를 사용하면 그래프를 더 세세하게 설정하고 예쁘게 그려진다."
      ],
      "metadata": {
        "colab": {
          "base_uri": "https://localhost:8080/",
          "height": 491
        },
        "id": "KwVFyUt63ob-",
        "outputId": "9571d7dd-6979-4e8b-d392-f80da296505d"
      },
      "execution_count": null,
      "outputs": [
        {
          "output_type": "execute_result",
          "data": {
            "text/plain": [
              "Text(0, 0.5, 'y')"
            ]
          },
          "metadata": {},
          "execution_count": 19
        },
        {
          "output_type": "display_data",
          "data": {
            "text/plain": [
              "<Figure size 640x480 with 1 Axes>"
            ],
            "image/png": "[encoded data removed]"
          },
          "metadata": {}
        }
      ]
    },
    {
      "cell_type": "code",
      "source": [
        "\n",
        "\n",
        "Ź#손가락이"
      ],
      "metadata": {
        "id": "L_gafY944trI"
      },
      "execution_count": null,
      "outputs": []
    },
    {
      "cell_type": "code",
      "source": [
        "study_time = [1, 2, 3, 4, 5, 6]\n",
        "score = [14, 25, 50, 48, 61, 82]\n",
        "plt.plot(study_time,score,\"o-\")\n",
        "plt.xlabel(\"study time\")\n",
        "plt.ylabel(\"score\")\n",
        "def predictor(a,b,xrng):\n",
        "  return a*xrng + b\n",
        "xrng = np.arange(0,10,0.1)\n",
        "plt.plot(xrng,predictor(17,3,xrng))"
      ],
      "metadata": {
        "id": "9HiSp8tbRfAY",
        "colab": {
          "base_uri": "https://localhost:8080/",
          "height": 468
        },
        "outputId": "7d7186e0-ba95-477c-cc34-bf7817c8f4ea"
      },
      "execution_count": null,
      "outputs": [
        {
          "output_type": "execute_result",
          "data": {
            "text/plain": [
              "[<matplotlib.lines.Line2D at 0x79d40d0e45b0>]"
            ]
          },
          "metadata": {},
          "execution_count": 49
        },
        {
          "output_type": "display_data",
          "data": {
            "text/plain": [
              "<Figure size 640x480 with 1 Axes>"
            ],
            "image/png": "[encoded data removed]"
          },
          "metadata": {}
        }
      ]
    },
    {
      "cell_type": "markdown",
      "source": [],
      "metadata": {
        "id": "5jRFz-7D6FYO"
      }
    },
    {
      "cell_type": "code",
      "source": [
        "def train_and_predict(x_train,y_train,x_test):\n",
        "  errors =\n",
        "  return a*xrng + b\n"
      ],
      "metadata": {
        "id": "bDqupRmJ6F6g"
      },
      "execution_count": null,
      "outputs": []
    },
    {
      "cell_type": "markdown",
      "source": [
        "https://wikidocs.net/32"
      ],
      "metadata": {
        "id": "LUU3uAw-9Ngh"
      }
    },
    {
      "cell_type": "code",
      "source": [],
      "metadata": {
        "id": "6xMoL0Ei9NDt"
      },
      "execution_count": null,
      "outputs": []
    }
  ]
}